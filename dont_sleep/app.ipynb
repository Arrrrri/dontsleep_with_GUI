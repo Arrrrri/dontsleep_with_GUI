{
 "cells": [
  {
   "cell_type": "code",
   "execution_count": 1,
   "id": "2c81cd7d",
   "metadata": {},
   "outputs": [
    {
     "ename": "SystemExit",
     "evalue": "0",
     "output_type": "error",
     "traceback": [
      "An exception has occurred, use %tb to see the full traceback.\n",
      "\u001b[1;31mSystemExit\u001b[0m\u001b[1;31m:\u001b[0m 0\n"
     ]
    },
    {
     "name": "stderr",
     "output_type": "stream",
     "text": [
      "C:\\Users\\82102\\anaconda3\\lib\\site-packages\\IPython\\core\\interactiveshell.py:3468: UserWarning: To exit: use 'exit', 'quit', or Ctrl-D.\n",
      "  warn(\"To exit: use 'exit', 'quit', or Ctrl-D.\", stacklevel=1)\n"
     ]
    }
   ],
   "source": [
    "from PyQt5.QtWidgets import QWidget, QApplication, QLabel, QVBoxLayout\n",
    "from PyQt5.QtCore import Qt\n",
    "from PyQt5 import QtGui\n",
    "import sys\n",
    "\n",
    "\n",
    "class Window(QWidget):\n",
    "    def __init__(self):\n",
    "        super().__init__()\n",
    "        self.setGeometry(300, 300, 400, 300)\n",
    "        self.setWindowTitle(\"Python PyQt5\")\n",
    "\n",
    "        self.label = QLabel(\"Hello World!\")\n",
    "        self.label.setFont(QtGui.QFont('Hack', 20))\n",
    "\n",
    "        layout = QVBoxLayout()\n",
    "        layout.addWidget(self.label, alignment=Qt.AlignCenter)\n",
    "        self.setLayout(layout)\n",
    "\n",
    "\n",
    "app = QApplication(sys.argv)\n",
    "root = Window()\n",
    "root.show()\n",
    "\n",
    "sys.exit(app.exec_())"
   ]
  },
  {
   "cell_type": "code",
   "execution_count": null,
   "id": "5ca45adf",
   "metadata": {},
   "outputs": [],
   "source": []
  }
 ],
 "metadata": {
  "kernelspec": {
   "display_name": "Python 3 (ipykernel)",
   "language": "python",
   "name": "python3"
  },
  "language_info": {
   "codemirror_mode": {
    "name": "ipython",
    "version": 3
   },
   "file_extension": ".py",
   "mimetype": "text/x-python",
   "name": "python",
   "nbconvert_exporter": "python",
   "pygments_lexer": "ipython3",
   "version": "3.10.9"
  }
 },
 "nbformat": 4,
 "nbformat_minor": 5
}
